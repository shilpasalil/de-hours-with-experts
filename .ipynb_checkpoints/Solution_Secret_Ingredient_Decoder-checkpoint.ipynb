{
 "cells": [
  {
   "cell_type": "code",
   "execution_count": 1,
   "id": "11418a82",
   "metadata": {},
   "outputs": [],
   "source": [
    "# Define the ENCODING dictionary and Ingredient class\n",
    "\n",
    "ENCODING = {\n",
    "    'y': 'a',\n",
    "    'h': 'b',\n",
    "    'v': 'c',\n",
    "    'x': 'd',\n",
    "    'k': 'e',\n",
    "    'p': 'f',\n",
    "    'z': 'g',\n",
    "    's': 'h',\n",
    "    'a': 'i',\n",
    "    'b': 'j',\n",
    "    'e': 'k',\n",
    "    'w': 'l',\n",
    "    'u': 'm',\n",
    "    'q': 'n',\n",
    "    'n': 'o',\n",
    "    'l': 'p',\n",
    "    'm': 'q',\n",
    "    'f': 'r',\n",
    "    'o': 's',\n",
    "    'i': 't',\n",
    "    'g': 'u',\n",
    "    'j': 'v',\n",
    "    't': 'w',\n",
    "    'd': 'x',\n",
    "    'r': 'y',\n",
    "    'c': 'z',\n",
    "    '3': '0',\n",
    "    '8': '1',\n",
    "    '4': '2',\n",
    "    '0': '3',\n",
    "    '2': '4',\n",
    "    '7': '5',\n",
    "    '5': '6',\n",
    "    '9': '7',\n",
    "    '1': '8',\n",
    "    '6': '9'\n",
    "}\n",
    "\n",
    "class Ingredient:\n",
    "    def __init__(self, amount, description) -> None:\n",
    "        self.amount = amount\n",
    "        self.description = description\n",
    "\n",
    "    def __str__(self):\n",
    "        return f\"{self.amount} {self.description}\"\n"
   ]
  },
  {
   "cell_type": "code",
   "execution_count": 2,
   "id": "5be37195",
   "metadata": {},
   "outputs": [],
   "source": [
    "#Define decode_string and decode_ingredient Functions\n",
    "\n",
    "def decode_string(encoded_string):\n",
    "    \"\"\"Given a string named encoded_string, use the Caesar encoding above to return the decoded string.\"\"\"\n",
    "    return ''.join(ENCODING.get(char, char) for char in encoded_string)\n",
    "\n",
    "#def decode_ingredient(line):\n",
    " #   \"\"\"Given an ingredient line, decode the amount and description, and return a new Ingredient.\"\"\"\n",
    "  #  amount, encoded_description = line.split('#')\n",
    "   # decoded_description = decode_string(encoded_description.strip())\n",
    "    #return Ingredient(amount.strip(), decoded_description)\n",
    "#def convert_amount(amount):\n",
    "#    \"\"\"Convert encoded amount to standard measurement units.\"\"\"\n",
    "#    if amount == '8 vgl':\n",
    "#        return '1 cup'\n",
    "#    #if amount == ''\n",
    "#    # Add more conversions if needed\n",
    "#    #amount ==decode_string\n",
    "#    return amount  # Default return\n",
    "\n",
    "def decode_ingredient(line):\n",
    "    \"\"\"Decode an ingredient line to return a new Ingredient.\"\"\"\n",
    "    amount, encoded_description = line.split('#')\n",
    "    decoded_description = decode_string(encoded_description.strip())\n",
    "    #converted_amount = convert_amount(amount.strip())\n",
    "    ###converting the amount\n",
    "    converted_amount = decode_string(amount.strip())\n",
    "    ###\n",
    "    return Ingredient(converted_amount, decoded_description)"
   ]
  },
  {
   "cell_type": "code",
   "execution_count": 3,
   "id": "7466e209",
   "metadata": {},
   "outputs": [
    {
     "name": "stdout",
     "output_type": "stream",
     "text": [
      "butter\n",
      "1 cup\n",
      "1 cup\n",
      "butter\n",
      "1 teaspoon\n",
      "vanilla\n",
      "All tests passed!\n"
     ]
    }
   ],
   "source": [
    "#Test the Functions\n",
    "# Test decode_string function\n",
    "print(decode_string(\"hgiikf\"))  # Expected: \"butter\"\n",
    "print(decode_string(\"8 vgl\"))    # Expected: \"1 cup\"\n",
    "\n",
    "# Test decode_ingredient function\n",
    "ingredient = decode_ingredient(\"8 vgl#hgiikf\")\n",
    "print(ingredient.amount)         # Expected: \"1 cup\"\n",
    "print(ingredient.description)    # Expected: \"butter\"\n",
    "\n",
    "ingredient = decode_ingredient(\"8 ikyolnnq#jyqawwy\")\n",
    "print(ingredient.amount)         # Expected: \"1 tablespoon\"\n",
    "print(ingredient.description)    # Expected: \"vanilla\"\n",
    "\n",
    "# For more comprehensive testing\n",
    "def test_decode_string():\n",
    "    assert decode_string(\"hgiikf\") == \"butter\"\n",
    "    assert decode_string(\"8 vgl\") == \"1 cup\"\n",
    "    # Add more test cases if needed\n",
    "\n",
    "def test_decode_ingredient():\n",
    "    expected = Ingredient(\"1 cup\", \"butter\")\n",
    "    actual = decode_ingredient(\"8 vgl#hgiikf\")\n",
    "    assert actual.amount == expected.amount\n",
    "    assert actual.description == expected.description\n",
    "    # Add more test cases if needed\n",
    "\n",
    "# Run tests\n",
    "test_decode_string()\n",
    "test_decode_ingredient()\n",
    "print(\"All tests passed!\")"
   ]
  },
  {
   "cell_type": "code",
   "execution_count": 4,
   "id": "5c31cf67",
   "metadata": {},
   "outputs": [
    {
     "name": "stdout",
     "output_type": "stream",
     "text": [
      "C:\\Users\\shilp\\ShilpaHoursWithExperts\\de-hours-with-experts\n",
      "['.git', '.github', '.gitignore', '.ipynb_checkpoints', 'github', 'images', 'java', 'python', 'README.md', 'scala', 'Solution_Secret_Ingredient_Decoder.ipynb']\n"
     ]
    }
   ],
   "source": [
    "import os\n",
    "print(os.getcwd())\n",
    "print(os.listdir('.'))"
   ]
  },
  {
   "cell_type": "code",
   "execution_count": 5,
   "id": "9857d52d",
   "metadata": {},
   "outputs": [
    {
     "name": "stdout",
     "output_type": "stream",
     "text": [
      "1 cup butter\n",
      "1 cup dark brown sugar, packed\n",
      "1 cup granulated sugar\n",
      "2 eggs\n",
      "1 teaspoon vanilla\n",
      "2 1/2 cups oatmeal\n",
      "2 cups flour\n",
      "1/2 teaspoon salt\n",
      "1 teaspoon baking soda\n",
      "1 teaspoon baking powder\n",
      "12 ounces chocolate chips\n",
      "1 4-ounce milk chocolate bar\n",
      "1 1/2 cups chopped nuts\n",
      "\n"
     ]
    }
   ],
   "source": [
    "#Reading from a File and Writing to a File\n",
    "\n",
    "# Sample file I/O operations\n",
    "\n",
    "# Read from file and decode ingredients\n",
    "input_file = 'python/secret_recipe.txt'\n",
    "output_file = 'python/decoded_recipe.txt'\n",
    "\n",
    "def decode_recipe(input_file, output_file):\n",
    "    with open(input_file, 'r') as infile, open(output_file, 'w') as outfile:\n",
    "        for line in infile:\n",
    "            line = line.strip()\n",
    "            if line:\n",
    "                ingredient = decode_ingredient(line)\n",
    "                outfile.write(f\"{ingredient}\\n\")\n",
    "\n",
    "# Run the recipe decoding\n",
    "decode_recipe(input_file, output_file)\n",
    "\n",
    "# Check the output\n",
    "with open(output_file, 'r') as f:\n",
    "    print(f.read())"
   ]
  },
  {
   "cell_type": "code",
   "execution_count": null,
   "id": "7f074b88",
   "metadata": {},
   "outputs": [],
   "source": []
  }
 ],
 "metadata": {
  "kernelspec": {
   "display_name": "Python 3 (ipykernel)",
   "language": "python",
   "name": "python3"
  },
  "language_info": {
   "codemirror_mode": {
    "name": "ipython",
    "version": 3
   },
   "file_extension": ".py",
   "mimetype": "text/x-python",
   "name": "python",
   "nbconvert_exporter": "python",
   "pygments_lexer": "ipython3",
   "version": "3.10.9"
  }
 },
 "nbformat": 4,
 "nbformat_minor": 5
}
